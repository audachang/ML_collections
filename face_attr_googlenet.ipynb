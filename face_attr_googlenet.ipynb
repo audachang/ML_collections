{
  "cells": [
    {
      "cell_type": "markdown",
      "metadata": {
        "id": "view-in-github",
        "colab_type": "text"
      },
      "source": [
        "<a href=\"https://colab.research.google.com/github/audachang/ML_collections/blob/main/face_attr_googlenet.ipynb\" target=\"_parent\"><img src=\"https://colab.research.google.com/assets/colab-badge.svg\" alt=\"Open In Colab\"/></a>"
      ]
    },
    {
      "cell_type": "markdown",
      "metadata": {
        "id": "OfE5_q6FQzvS"
      },
      "source": [
        "[ML collection using pytorch to predict category of custom dataset](https://github.com/aladdinpersson/Machine-Learning-Collection/tree/master/ML/Pytorch/Basics/custom_dataset)"
      ]
    },
    {
      "cell_type": "code",
      "execution_count": null,
      "metadata": {
        "id": "lto8hc3LgLta"
      },
      "outputs": [],
      "source": [
        "import torch\n",
        "import torch.nn as nn  # All neural network modules, nn.Linear, nn.Conv2d, BatchNorm, Loss functions\n",
        "import torch.optim as optim  # For all Optimization algorithms, SGD, Adam, etc.\n",
        "import torchvision.transforms as transforms  # Transformations we can perform on our dataset\n",
        "import torchvision\n",
        "\n",
        "from sklearn.model_selection import KFold\n",
        "\n",
        "import os\n",
        "import pandas as pd\n",
        "from PIL import Image\n",
        "import seaborn as sns\n",
        "import random\n",
        "import matplotlib.pyplot as plt\n",
        "\n",
        "import torchvision.models as models\n",
        "from torch.utils.data import (\n",
        "    Dataset,\n",
        "    DataLoader,\n",
        "    Subset\n",
        ")  # Gives easier dataset managment and creates mini batches\n",
        "\n",
        "import os\n",
        "import pandas as pd\n",
        "import numpy as np\n",
        "\n",
        "\n",
        "dpath = './drive/MyDrive/mycolab/data/'\n",
        "model_path = './drive/MyDrive/mycolab/model/'\n",
        "imgdir = os.path.join(dpath, '346faces_sameBG_grey_adjBright')\n",
        "annote_file = './drive/MyDrive/mycolab/data/346faces_allData.csv'  # or whatever the path to the downloaded data is"
      ]
    },
    {
      "cell_type": "markdown",
      "metadata": {
        "id": "kmFBQrHXB-rA"
      },
      "source": [
        "### checking on column names"
      ]
    },
    {
      "cell_type": "code",
      "execution_count": null,
      "metadata": {
        "id": "TAqFTrnXz1BA"
      },
      "outputs": [],
      "source": [
        " #   Sr：使用圖片像素亮度計算出的客觀臉孔對稱係數\n",
        " #   oAI：臉孔的不對稱指標（數值越大代表越不對稱），因為此項指標需要在臉孔上標記20個特徵點，因此又分為manual（手動選點）、Facemesh（使用Facemesh選點）\n",
        " #   prototypicality：有多像平均臉\n",
        " #   sensitivity、criterion ：臉孔辨識記憶的指標\n",
        " #   gray_att_upr：吸引力評分\n",
        " #   gray_sym_upr：對稱度評分\n",
        "\n",
        "labdata = pd.read_csv(annote_file)\n",
        "labels = labdata.iloc[:,[11,3]]"
      ]
    },
    {
      "cell_type": "code",
      "execution_count": null,
      "metadata": {
        "colab": {
          "base_uri": "https://localhost:8080/"
        },
        "id": "yHtWbHv1Ly0A",
        "outputId": "943d8758-ac33-41b2-c77f-8caa3a0e737a"
      },
      "outputs": [
        {
          "output_type": "execute_result",
          "data": {
            "text/plain": [
              "Index(['face', 'face_race', 'face_gender', 'image_grey_adj',\n",
              "       'Sr_column_grey_adj', 'manual_oAI_raw', 'FaceMesh_oAI_raw',\n",
              "       'FaceMesh_oAI_normalized', 'prototypicality.N.54.', 'sensitivity.N.56.',\n",
              "       'criterion.N.56.', 'gray_att_upr', 'gray_sym_upr'],\n",
              "      dtype='object')"
            ]
          },
          "metadata": {},
          "execution_count": 23
        }
      ],
      "source": [
        "labdata.columns"
      ]
    },
    {
      "cell_type": "code",
      "execution_count": null,
      "metadata": {
        "colab": {
          "base_uri": "https://localhost:8080/",
          "height": 210
        },
        "id": "ri2j1NUNJl2x",
        "outputId": "2568d936-87f3-476f-baad-2d3ff46e4df0"
      },
      "outputs": [
        {
          "output_type": "display_data",
          "data": {
            "text/plain": [
              "<Figure size 288x216 with 1 Axes>"
            ],
            "image/png": "[encoded data removed]"
          },
          "metadata": {}
        }
      ],
      "source": [
        "random_imgfn = random.choice(labels.iloc[:,1])\n",
        "\n",
        "img = Image.open(os.path.join(imgdir, random_imgfn ))\n",
        "face_race = labdata.query(\n",
        "    \"image_grey_adj==@random_imgfn\")[\"face_race\"].item()\n",
        "\n",
        "face_gender = labdata.query(\n",
        "    \"image_grey_adj==@random_imgfn\")[\"face_gender\"].item()\n",
        "\n",
        "gray_att_upr = labdata.query(\n",
        "    \"image_grey_adj==@random_imgfn\")[\"gray_att_upr\"].item()\n",
        "\n",
        "sns.set_theme()\n",
        "\n",
        "# Turn the image into an array\n",
        "img_as_array = np.asarray(img)\n",
        "\n",
        "# Plot the image with matplotlib\n",
        "plt.figure(figsize=(4, 3))\n",
        "plt.imshow(img_as_array)\n",
        "plt.title(f\"face_race: {face_race} | face_gender: {face_gender} | attractive:{gray_att_upr:.2f} \")\n",
        "plt.axis(False);"
      ]
    },
    {
      "cell_type": "markdown",
      "metadata": {
        "id": "WnuZ9zojZI6p"
      },
      "source": [
        "## Reading structured data"
      ]
    },
    {
      "cell_type": "code",
      "execution_count": null,
      "metadata": {
        "id": "WO9ImEfttdci"
      },
      "outputs": [],
      "source": [
        "class faceDataset(Dataset):\n",
        "    def __init__(self, csv_file, root_dir, tarlab, transform=None):\n",
        "        self.annotations = pd.read_csv(csv_file)\n",
        "\n",
        "        self.annotations['value'] = self.annotations[tarlab]\n",
        "        self.root_dir = root_dir\n",
        "        self.transform = transform\n",
        "\n",
        "    def __len__(self):\n",
        "        return len(self.annotations)\n",
        "\n",
        "    def __getitem__(self, index):\n",
        "        img_path = os.path.join(self.root_dir, self.annotations.iloc[index, 3])\n",
        "        image = Image.open(img_path)\n",
        "        y_label = torch.tensor(self.annotations.loc[index, 'value'])\n",
        "        y_label = y_label.float()\n",
        "        #y_label = y_label.unsqueeze(1)\n",
        "\n",
        "        if self.transform:\n",
        "            image = self.transform(image)\n",
        "            image = image.float()\n",
        "\n",
        "\n",
        "        return (image, y_label)"
      ]
    },
    {
      "cell_type": "markdown",
      "metadata": {
        "id": "N2gj2dmgCDyE"
      },
      "source": [
        "## Setting up training parameters"
      ]
    },
    {
      "cell_type": "code",
      "execution_count": null,
      "metadata": {
        "id": "TfkLEMI4wef-"
      },
      "outputs": [],
      "source": [
        "# Set device\n",
        "device = torch.device(\"cuda\" if torch.cuda.is_available() else \"cpu\")\n",
        "\n",
        "# Hyperparameters\n",
        "learning_rate = 3e-4\n",
        "batch_size = 32\n",
        "num_epochs = 10"
      ]
    },
    {
      "cell_type": "markdown",
      "metadata": {
        "id": "WiejKJzCCVMT"
      },
      "source": [
        "## Loading dataset"
      ]
    },
    {
      "cell_type": "code",
      "execution_count": null,
      "metadata": {
        "id": "sOcOPSDKttT0"
      },
      "outputs": [],
      "source": [
        "IMAGE_WIDTH=480\n",
        "IMAGE_HEIGHT=480\n",
        "IMAGE_SIZE=(IMAGE_WIDTH, IMAGE_HEIGHT)\n",
        "\n",
        "# Write transform for image\n",
        "data_transform = transforms.Compose([\n",
        "    # Resize the images to IMAGE_SIZE xIMAGE_SIZE \n",
        "    transforms.Resize(size=IMAGE_SIZE),\n",
        "    # Flip the images randomly on the horizontal\n",
        "    #transforms.RandomHorizontalFlip(p=0.5), # p = probability of flip, 0.5 = 50% chance\n",
        "    # Turn the image into a torch.Tensor\n",
        "    transforms.ToTensor() # this also converts all pixel values from 0 to 255 to be between 0.0 and 1.0 \n",
        "])\n",
        "\n",
        "dataset = faceDataset(\n",
        "    csv_file=annote_file,\n",
        "    root_dir=imgdir,\n",
        "    tarlab = 'gray_att_upr',\n",
        "    transform=data_transform\n",
        ")\n"
      ]
    },
    {
      "cell_type": "code",
      "source": [
        "os.path.join(imgdir,labdata.image_grey_adj[2])"
      ],
      "metadata": {
        "colab": {
          "base_uri": "https://localhost:8080/",
          "height": 36
        },
        "id": "TlMI8DnDrlOQ",
        "outputId": "d5f62a22-9a9e-4919-a28d-8ca18c305673"
      },
      "execution_count": null,
      "outputs": [
        {
          "output_type": "execute_result",
          "data": {
            "text/plain": [
              "'./drive/MyDrive/mycolab/data/346faces_sameBG_grey_adjBright/AUF_11_squared_adjBright.png'"
            ],
            "application/vnd.google.colaboratory.intrinsic+json": {
              "type": "string"
            }
          },
          "metadata": {},
          "execution_count": 28
        }
      ]
    },
    {
      "cell_type": "code",
      "execution_count": null,
      "metadata": {
        "colab": {
          "base_uri": "https://localhost:8080/",
          "height": 301
        },
        "id": "21EOMb_rjGO3",
        "outputId": "3e0fcdc2-f04c-425a-cec1-a8fc5157b5b6"
      },
      "outputs": [
        {
          "output_type": "display_data",
          "data": {
            "text/plain": [
              "<Figure size 864x288 with 5 Axes>"
            ],
            "image/png": "[encoded data removed]"
          },
          "metadata": {}
        }
      ],
      "source": [
        "\n",
        "\n",
        "fig, ax = plt.subplots(1, 4, figsize = (12,4))\n",
        "# Note: permute() will change shape of image to suit matplotlib \n",
        "            # (PyTorch default is [C, H, W] but Matplotlib is [H, W, C])\n",
        "gs = ax[2].get_gridspec()\n",
        "\n",
        "ax[0].imshow(\n",
        "    Image.open(os.path.join(imgdir,labdata.image_grey_adj[2])))\n",
        "\n",
        "ax[0].axis('off')\n",
        "ax[0].set_title(\"original\")\n",
        "\n",
        "ax[1].imshow(dataset[2][0].permute(1,2,0))\n",
        "ax[1].axis('off')\n",
        "ax[1].set_title(\"Transformed\")\n",
        "\n",
        "ax[2].axis('off')\n",
        "\n",
        "ax[3].hist(dataset[0][0].ravel(), bins=20, density=True)\n",
        "ax[3].set_xlabel(\"pixel values\")\n",
        "ax[3].set_ylabel(\"relative frequency\")\n",
        "ax[3].set_title(\"distribution of pixels\")\n",
        "\n",
        "\n",
        "\n",
        "# Show the plot\n",
        "plt.show()"
      ]
    },
    {
      "cell_type": "markdown",
      "metadata": {
        "id": "bjYHUqrhCYpl"
      },
      "source": [
        "## Splitting test and training set"
      ]
    },
    {
      "cell_type": "code",
      "execution_count": null,
      "metadata": {
        "id": "el7xXVYNt-XJ"
      },
      "outputs": [],
      "source": [
        "# Train 跟 test 的大小\n",
        "test_size = int(len(dataset)*0.2)\n",
        "train_size = len(dataset)- int(len(dataset)*0.2)\n",
        "\n",
        "# 切割資料集\n",
        "train_dataset, test_dataset = \\\n",
        "  torch.utils.data.random_split(dataset, [train_size, test_size])\n",
        "\n",
        "# 套上dataloader\n",
        "train_loader = DataLoader(dataset=train_dataset, batch_size=batch_size, shuffle=True)\n",
        "test_loader = DataLoader(dataset=test_dataset, batch_size=batch_size, shuffle=True)"
      ]
    },
    {
      "cell_type": "markdown",
      "metadata": {
        "id": "LaSsx0uPCc1w"
      },
      "source": [
        "## initiate model\n",
        "[googlenet](https://tigercosmos.xyz/post/2020/10/ai/googlenet/)"
      ]
    },
    {
      "cell_type": "code",
      "execution_count": null,
      "metadata": {
        "id": "SnDolSzAuTMA"
      },
      "outputs": [],
      "source": [
        "# Define the GoogleNet regression model\n",
        "class GoogleNetRegressor(nn.Module):\n",
        "    def __init__(self):\n",
        "        super(GoogleNetRegressor, self).__init__()\n",
        "        self.googlenet = models.googlenet(weights='DEFAULT')\n",
        "        self.googlenet.fc = nn.Linear(in_features=1024, out_features=1)\n",
        "    \n",
        "    def forward(self, x):\n",
        "        x = self.googlenet(x)\n",
        "        return x\n",
        "\n",
        "\n",
        "def train(model, train_loader, criterion, optimizer):\n",
        "    model.train()\n",
        "    total_loss = 0.0\n",
        "    for i, (images, targets) in enumerate(train_loader):\n",
        "        outputs = model(images)\n",
        "        loss = criterion(outputs, targets.unsqueeze(1))\n",
        "        optimizer.zero_grad()\n",
        "        loss.backward()\n",
        "        optimizer.step()\n",
        "        total_loss += loss.item() * len(images)\n",
        "    avg_loss = total_loss / len(train_loader.dataset)\n",
        "    return avg_loss\n",
        "\n",
        "def validate(model, val_loader, criterion):\n",
        "    model.eval()\n",
        "    total_loss = 0.0\n",
        "    with torch.no_grad():\n",
        "        for images, targets in val_loader:\n",
        "            outputs = model(images)\n",
        "            loss = criterion(outputs, targets.unsqueeze(1))\n",
        "            total_loss += loss.item() * len(images)\n",
        "    avg_loss = total_loss / len(val_loader.dataset)\n",
        "    return avg_loss\n",
        "\n",
        "\n",
        "def test(model, test_loader):\n",
        "    model.eval()  # switch to evaluation mode\n",
        "\n",
        "    with torch.no_grad():\n",
        "        total_loss = 0.0\n",
        "        test_out = []\n",
        "        for images, targets in test_loader:\n",
        "            # Forward pass\n",
        "            outputs = model(images)\n",
        "            loss = criterion(outputs, targets.unsqueeze(1))\n",
        "            total_loss += loss.item() * len(images)\n",
        "            predicted = list(itertools.chain.from_iterable(outputs.tolist()))\n",
        "            target = list(itertools.chain.from_iterable([targets.tolist()])) # wrap targets in a list\n",
        "            test_out.append((predicted, target))\n",
        "        avg_loss = total_loss / len(test_loader.dataset)\n",
        "        print('Test Loss: {:.4f}'.format(avg_loss))\n",
        "        test_df = pd.DataFrame(test_out, columns=[\"Predicted\", \"Target\"])\n",
        "        test_df = test_df.apply(lambda x: x.apply(pd.Series).stack()).reset_index(drop=True)\n",
        "        return test_df\n",
        "\n",
        "\n",
        "def cross_validation(model, dataset, n_splits=5, epochs=10, model_path=\"models\", model_name=\"model\"):\n",
        "    kf = KFold(n_splits=n_splits)\n",
        "    \n",
        "    criterion = nn.MSELoss()\n",
        "    train_losses=[]\n",
        "    val_losses = []\n",
        "    for fold, (train_idx, val_idx) in enumerate(kf.split(dataset)):\n",
        "        print(f\"\\n=== Fold {fold + 1}/{n_splits} ===\")\n",
        "        train_subset = Subset(dataset, train_idx)\n",
        "        val_subset = Subset(dataset, val_idx)\n",
        "\n",
        "        train_loader = DataLoader(train_subset, batch_size=batch_size, shuffle=True)\n",
        "        val_loader = DataLoader(val_subset, batch_size=batch_size, shuffle=False)\n",
        "\n",
        "        optimizer = optim.Adam(model.parameters(), lr=learning_rate)\n",
        "        best_val_loss = float(\"inf\")\n",
        "        \n",
        "        for epoch in range(epochs):\n",
        "            print(f\"\\n--- Epoch {epoch + 1}/{epochs} ---\")\n",
        "            train_loss = train(model, train_loader, criterion, optimizer)\n",
        "            val_loss = validate(model, val_loader, criterion)\n",
        "            \n",
        "            print(f\"Train Loss: {train_loss:.4f}, Validation Loss: {val_loss:.4f}\")\n",
        "\n",
        "            if val_loss < best_val_loss:\n",
        "                best_val_loss = val_loss\n",
        "                print(f\"Best validation loss of Fold {fold} so far is epoch {epoch}: {best_val_loss}\")\n",
        "                checkpoint_path = os.path.join(model_path, f\"{model_name}-Fold{fold + 1}-Epoch{epoch + 1}.pth\")\n",
        "                torch.save({\n",
        "                    'model_state_dict': model.state_dict(),\n",
        "                    'optimizer_state_dict': optimizer.state_dict(),\n",
        "                    'epoch': epoch + 1\n",
        "                }, checkpoint_path)\n",
        "                print(f\"Model saved at {checkpoint_path}\")\n",
        "        \n",
        "        # collect the train_loss and val_loss of last epoch in each fold\n",
        "        \n",
        "        train_losses.append(train_loss)\n",
        "        val_losses.append(val_loss)\n",
        "\n",
        "    print(\"Cross-validation training finished.\")\n",
        "    print(f\"Average Train Loss: {np.mean(train_losses):.4f}, Std Dev: {np.std(train_losses):.4f}\")\n",
        "    print(f\"Average Validation Loss: {np.mean(val_losses):.4f}, Std Dev: {np.std(val_losses):.4f}\")\n"
      ]
    },
    {
      "cell_type": "markdown",
      "metadata": {
        "id": "7TAkOwecvAVu"
      },
      "source": [
        "## Model training"
      ]
    },
    {
      "cell_type": "markdown",
      "source": [],
      "metadata": {
        "id": "DtC0XiNSH5mb"
      }
    },
    {
      "cell_type": "code",
      "execution_count": null,
      "metadata": {
        "colab": {
          "base_uri": "https://localhost:8080/",
          "height": 1000
        },
        "id": "3eoQXRKH0Xo7",
        "outputId": "d5d6e1b5-cb1f-4f00-dcdb-559d365cae0f"
      },
      "outputs": [
        {
          "output_type": "stream",
          "name": "stdout",
          "text": [
            "\n",
            "=== Fold 1/5 ===\n",
            "\n",
            "--- Epoch 1/10 ---\n",
            "Train Loss: 9.1536, Validation Loss: 4.0551\n",
            "Model saved at ./drive/MyDrive/mycolab/model/model_googlenet_size480-Fold1-Epoch1.pth\n",
            "\n",
            "--- Epoch 2/10 ---\n",
            "Train Loss: 1.2668, Validation Loss: 0.5749\n",
            "Model saved at ./drive/MyDrive/mycolab/model/model_googlenet_size480-Fold1-Epoch2.pth\n",
            "\n",
            "--- Epoch 3/10 ---\n",
            "Train Loss: 0.1250, Validation Loss: 0.6831\n",
            "\n",
            "--- Epoch 4/10 ---\n",
            "Train Loss: 0.0994, Validation Loss: 0.3119\n",
            "Model saved at ./drive/MyDrive/mycolab/model/model_googlenet_size480-Fold1-Epoch4.pth\n",
            "\n",
            "--- Epoch 5/10 ---\n",
            "Train Loss: 0.1189, Validation Loss: 0.2229\n",
            "Model saved at ./drive/MyDrive/mycolab/model/model_googlenet_size480-Fold1-Epoch5.pth\n",
            "\n",
            "--- Epoch 6/10 ---\n",
            "Train Loss: 0.0764, Validation Loss: 0.3757\n",
            "\n",
            "--- Epoch 7/10 ---\n",
            "Train Loss: 0.1032, Validation Loss: 0.2351\n",
            "\n",
            "--- Epoch 8/10 ---\n",
            "Train Loss: 0.0602, Validation Loss: 0.3193\n",
            "\n",
            "--- Epoch 9/10 ---\n",
            "Train Loss: 0.0497, Validation Loss: 0.2207\n",
            "Model saved at ./drive/MyDrive/mycolab/model/model_googlenet_size480-Fold1-Epoch9.pth\n",
            "\n",
            "--- Epoch 10/10 ---\n",
            "Train Loss: 0.0444, Validation Loss: 0.2921\n",
            "\n",
            "=== Fold 2/5 ===\n",
            "\n",
            "--- Epoch 1/10 ---\n",
            "Train Loss: 0.1293, Validation Loss: 0.2774\n",
            "Model saved at ./drive/MyDrive/mycolab/model/model_googlenet_size480-Fold2-Epoch1.pth\n",
            "\n",
            "--- Epoch 2/10 ---\n",
            "Train Loss: 0.1311, Validation Loss: 0.0693\n",
            "Model saved at ./drive/MyDrive/mycolab/model/model_googlenet_size480-Fold2-Epoch2.pth\n",
            "\n",
            "--- Epoch 3/10 ---\n",
            "Train Loss: 0.1003, Validation Loss: 0.0966\n",
            "\n",
            "--- Epoch 4/10 ---\n",
            "Train Loss: 0.0799, Validation Loss: 0.1334\n",
            "\n",
            "--- Epoch 5/10 ---\n",
            "Train Loss: 0.1194, Validation Loss: 0.1282\n",
            "\n",
            "--- Epoch 6/10 ---\n",
            "Train Loss: 0.0929, Validation Loss: 0.1118\n",
            "\n",
            "--- Epoch 7/10 ---\n",
            "Train Loss: 0.0646, Validation Loss: 0.1203\n",
            "\n",
            "--- Epoch 8/10 ---\n",
            "Train Loss: 0.0588, Validation Loss: 0.1147\n",
            "\n",
            "--- Epoch 9/10 ---\n",
            "Train Loss: 0.0439, Validation Loss: 0.2279\n",
            "\n",
            "--- Epoch 10/10 ---\n",
            "Train Loss: 0.0531, Validation Loss: 0.1008\n",
            "\n",
            "=== Fold 3/5 ===\n",
            "\n",
            "--- Epoch 1/10 ---\n",
            "Train Loss: 0.1023, Validation Loss: 0.0970\n",
            "Model saved at ./drive/MyDrive/mycolab/model/model_googlenet_size480-Fold3-Epoch1.pth\n",
            "\n",
            "--- Epoch 2/10 ---\n",
            "Train Loss: 0.1112, Validation Loss: 0.1734\n",
            "\n",
            "--- Epoch 3/10 ---\n",
            "Train Loss: 0.0710, Validation Loss: 0.1968\n",
            "\n",
            "--- Epoch 4/10 ---\n",
            "Train Loss: 0.0711, Validation Loss: 0.0832\n",
            "Model saved at ./drive/MyDrive/mycolab/model/model_googlenet_size480-Fold3-Epoch4.pth\n",
            "\n",
            "--- Epoch 5/10 ---\n",
            "Train Loss: 0.0497, Validation Loss: 0.0473\n",
            "Model saved at ./drive/MyDrive/mycolab/model/model_googlenet_size480-Fold3-Epoch5.pth\n",
            "\n",
            "--- Epoch 6/10 ---\n",
            "Train Loss: 0.0503, Validation Loss: 0.0888\n",
            "\n",
            "--- Epoch 7/10 ---\n",
            "Train Loss: 0.0591, Validation Loss: 0.1704\n",
            "\n",
            "--- Epoch 8/10 ---\n",
            "Train Loss: 0.0426, Validation Loss: 0.0978\n",
            "\n",
            "--- Epoch 9/10 ---\n",
            "Train Loss: 0.0657, Validation Loss: 0.1219\n",
            "\n",
            "--- Epoch 10/10 ---\n",
            "Train Loss: 0.0518, Validation Loss: 0.0656\n",
            "\n",
            "=== Fold 4/5 ===\n",
            "\n",
            "--- Epoch 1/10 ---\n",
            "Train Loss: 0.0792, Validation Loss: 0.0249\n",
            "Model saved at ./drive/MyDrive/mycolab/model/model_googlenet_size480-Fold4-Epoch1.pth\n",
            "\n",
            "--- Epoch 2/10 ---\n",
            "Train Loss: 0.0793, Validation Loss: 0.1445\n",
            "\n",
            "--- Epoch 3/10 ---\n",
            "Train Loss: 0.0615, Validation Loss: 0.1502\n",
            "\n",
            "--- Epoch 4/10 ---\n",
            "Train Loss: 0.0682, Validation Loss: 0.0512\n",
            "\n",
            "--- Epoch 5/10 ---\n",
            "Train Loss: 0.0515, Validation Loss: 0.0390\n",
            "\n",
            "--- Epoch 6/10 ---\n",
            "Train Loss: 0.0352, Validation Loss: 0.0324\n",
            "\n",
            "--- Epoch 7/10 ---\n",
            "Train Loss: 0.0336, Validation Loss: 0.0928\n",
            "\n",
            "--- Epoch 8/10 ---\n",
            "Train Loss: 0.0357, Validation Loss: 0.0536\n",
            "\n",
            "--- Epoch 9/10 ---\n",
            "Train Loss: 0.0482, Validation Loss: 0.1372\n",
            "\n",
            "--- Epoch 10/10 ---\n",
            "Train Loss: 0.0371, Validation Loss: 0.0710\n",
            "\n",
            "=== Fold 5/5 ===\n",
            "\n",
            "--- Epoch 1/10 ---\n",
            "Train Loss: 0.0871, Validation Loss: 0.0827\n",
            "Model saved at ./drive/MyDrive/mycolab/model/model_googlenet_size480-Fold5-Epoch1.pth\n",
            "\n",
            "--- Epoch 2/10 ---\n",
            "Train Loss: 0.0802, Validation Loss: 0.1221\n",
            "\n",
            "--- Epoch 3/10 ---\n",
            "Train Loss: 0.0461, Validation Loss: 0.0283\n",
            "Model saved at ./drive/MyDrive/mycolab/model/model_googlenet_size480-Fold5-Epoch3.pth\n",
            "\n",
            "--- Epoch 4/10 ---\n",
            "Train Loss: 0.0513, Validation Loss: 0.0328\n",
            "\n",
            "--- Epoch 5/10 ---\n",
            "Train Loss: 0.0361, Validation Loss: 0.0266\n",
            "Model saved at ./drive/MyDrive/mycolab/model/model_googlenet_size480-Fold5-Epoch5.pth\n",
            "\n",
            "--- Epoch 6/10 ---\n",
            "Train Loss: 0.0360, Validation Loss: 0.0306\n",
            "\n",
            "--- Epoch 7/10 ---\n",
            "Train Loss: 0.0451, Validation Loss: 0.0338\n",
            "\n",
            "--- Epoch 8/10 ---\n",
            "Train Loss: 0.0470, Validation Loss: 0.0269\n",
            "\n",
            "--- Epoch 9/10 ---\n",
            "Train Loss: 0.0542, Validation Loss: 0.0857\n",
            "\n",
            "--- Epoch 10/10 ---\n",
            "Train Loss: 0.0600, Validation Loss: 0.0410\n",
            "Cross-validation training finished.\n"
          ]
        },
        {
          "output_type": "error",
          "ename": "NameError",
          "evalue": "ignored",
          "traceback": [
            "\u001b[0;31m---------------------------------------------------------------------------\u001b[0m",
            "\u001b[0;31mNameError\u001b[0m                                 Traceback (most recent call last)",
            "\u001b[0;32m<ipython-input-44-8fea3aa08fe2>\u001b[0m in \u001b[0;36m<module>\u001b[0;34m\u001b[0m\n\u001b[1;32m     11\u001b[0m \u001b[0;34m\u001b[0m\u001b[0m\n\u001b[1;32m     12\u001b[0m \u001b[0;31m# Testing the model\u001b[0m\u001b[0;34m\u001b[0m\u001b[0;34m\u001b[0m\u001b[0;34m\u001b[0m\u001b[0m\n\u001b[0;32m---> 13\u001b[0;31m \u001b[0moutput\u001b[0m \u001b[0;34m=\u001b[0m \u001b[0mtest\u001b[0m\u001b[0;34m(\u001b[0m\u001b[0mmodel\u001b[0m\u001b[0;34m,\u001b[0m \u001b[0mtest_loader\u001b[0m\u001b[0;34m)\u001b[0m\u001b[0;34m\u001b[0m\u001b[0;34m\u001b[0m\u001b[0m\n\u001b[0m\u001b[1;32m     14\u001b[0m \u001b[0;34m\u001b[0m\u001b[0m\n\u001b[1;32m     15\u001b[0m \u001b[0;31m# Create a scatter plot of predicted vs target values\u001b[0m\u001b[0;34m\u001b[0m\u001b[0;34m\u001b[0m\u001b[0;34m\u001b[0m\u001b[0m\n",
            "\u001b[0;31mNameError\u001b[0m: name 'test' is not defined"
          ]
        }
      ],
      "source": [
        "# Define the hyperparameters\n",
        "\n",
        "model_name = 'model_googlenet_size480'\n",
        "# Instantiate the GoogleNet regressor model, criterion, and optimizer\n",
        "model = GoogleNetRegressor()\n",
        "\n",
        "# Instantiate the GoogleNet regressor model\n",
        "# Perform cross-validation\n",
        "cross_validation(model, dataset, n_splits=5, epochs=num_epochs, \n",
        "                 model_path=model_path, model_name=model_name)\n",
        "\n"
      ]
    },
    {
      "cell_type": "code",
      "source": [],
      "metadata": {
        "id": "9G7PyOxEpjdN"
      },
      "execution_count": null,
      "outputs": []
    },
    {
      "cell_type": "markdown",
      "metadata": {
        "id": "aGD7HgZn4bwI"
      },
      "source": [
        "## Check accuracy on training data\n"
      ]
    },
    {
      "cell_type": "markdown",
      "source": [
        "- (optional) test with the loaded model"
      ],
      "metadata": {
        "id": "tIBAWyQNlnQE"
      }
    },
    {
      "cell_type": "code",
      "execution_count": null,
      "metadata": {
        "colab": {
          "base_uri": "https://localhost:8080/",
          "height": 88,
          "referenced_widgets": [
            "e594d1c9a9e647daa168b05c2325a673",
            "d1f4851cd12d494ab1fb1bf0f85a60bc",
            "51bac48c503345959e8bdd7de574e9c8",
            "574bed2bde62436aa05cd26690126fc6",
            "b58f14c406344ceaa25f35c37378ca07",
            "b5dad85107a644799430bf461041e265",
            "3958efc14f9c469a84f01ea9d8b25aef",
            "e040075e082b42ecac2fab44b829bb90",
            "e1afa7425e1f45f5ba9d781602df719c",
            "0d6e602016a3409499be1e1457d4deac",
            "2116dc4e542a4df09e14d450923e4a07"
          ]
        },
        "id": "zR5DsT0_5W_b",
        "outputId": "5583d132-981f-4c38-edd4-db0807ef1818"
      },
      "outputs": [
        {
          "output_type": "stream",
          "name": "stderr",
          "text": [
            "Downloading: \"https://download.pytorch.org/models/googlenet-1378be20.pth\" to /root/.cache/torch/hub/checkpoints/googlenet-1378be20.pth\n"
          ]
        },
        {
          "output_type": "display_data",
          "data": {
            "text/plain": [
              "  0%|          | 0.00/49.7M [00:00<?, ?B/s]"
            ],
            "application/vnd.jupyter.widget-view+json": {
              "version_major": 2,
              "version_minor": 0,
              "model_id": "e594d1c9a9e647daa168b05c2325a673"
            }
          },
          "metadata": {}
        }
      ],
      "source": [
        "import itertools\n",
        "\n",
        "\n",
        "# Load the saved model\n",
        "model_name = 'googlenet_pretrained-Final.pth'\n",
        "checkpoint = torch.load(os.path.join(model_path, model_name))\n",
        "model = GoogleNetRegressor()\n",
        "model.load_state_dict(checkpoint['model_state_dict'])\n",
        "optimizer = torch.optim.Adam(model.parameters())\n",
        "optimizer.load_state_dict(checkpoint['optimizer_state_dict'])\n",
        "epoch = checkpoint['epoch']\n",
        "\n"
      ]
    },
    {
      "cell_type": "markdown",
      "source": [
        "## Predicted vs. Traget values for trained data"
      ],
      "metadata": {
        "id": "KAoToK6xl230"
      }
    },
    {
      "cell_type": "code",
      "source": [
        "import itertools\n",
        "\n",
        "output_train = test(model, train_loader)\n",
        "# Create a scatter plot with regression line and R-squared\n",
        "sns.regplot(x=output_train.Predicted,y=output_train.Target)\n",
        "plt.ylabel('Target values')\n",
        "plt.xlabel('Predicted values')\n",
        "\n",
        "# Calculate and display R-squared\n",
        "from sklearn.metrics import r2_score\n",
        "r_squared = r2_score(output_train.Predicted,output_train.Target)\n",
        "plt.title(f\"R-squared = {r_squared:.3f}\")\n",
        "\n",
        "plt.show()"
      ],
      "metadata": {
        "colab": {
          "base_uri": "https://localhost:8080/",
          "height": 320
        },
        "id": "TyXZB_gSfXZK",
        "outputId": "4533d01b-1908-48b3-b944-21299f7cc175"
      },
      "execution_count": null,
      "outputs": [
        {
          "output_type": "stream",
          "name": "stdout",
          "text": [
            "Test Loss: 0.0262\n"
          ]
        },
        {
          "output_type": "display_data",
          "data": {
            "text/plain": [
              "<Figure size 432x288 with 1 Axes>"
            ],
            "image/png": "[encoded data removed]"
          },
          "metadata": {}
        }
      ]
    },
    {
      "cell_type": "markdown",
      "source": [
        "## Plotting Predicted vs. Target values for testing data"
      ],
      "metadata": {
        "id": "QJe9AEaoms8Y"
      }
    },
    {
      "cell_type": "code",
      "source": [
        "output_test = test(model, test_loader)\n",
        "\n",
        "# Create a scatter plot with regression line and R-squared\n",
        "sns.regplot(x=output_test.Predicted,y=output_test.Target)\n",
        "plt.ylabel('Target values')\n",
        "plt.xlabel('Predicted values')\n",
        "\n",
        "# Calculate and display R-squared\n",
        "from sklearn.metrics import r2_score\n",
        "r_squared = r2_score(output_test.Predicted,output_test.Target)\n",
        "plt.title(f\"R-squared = {r_squared:.3f}\")\n",
        "\n",
        "plt.show()"
      ],
      "metadata": {
        "colab": {
          "base_uri": "https://localhost:8080/",
          "height": 320
        },
        "id": "nrxVWKxw4tdY",
        "outputId": "1a71d826-b971-4f4a-cb4c-8df75587095d"
      },
      "execution_count": null,
      "outputs": [
        {
          "output_type": "stream",
          "name": "stdout",
          "text": [
            "Test Loss: 0.0225\n"
          ]
        },
        {
          "output_type": "display_data",
          "data": {
            "text/plain": [
              "<Figure size 432x288 with 1 Axes>"
            ],
            "image/png": "[encoded data removed]"
          },
          "metadata": {}
        }
      ]
    },
    {
      "cell_type": "code",
      "source": [
        "# Define a function to show images\n",
        "def show_images(images):\n",
        "    fig, axes = plt.subplots(nrows=1, ncols=len(images), figsize=(12, 3))\n",
        "    for i, image in enumerate(images):\n",
        "        axes[i].imshow(image.permute(1, 2, 0))\n",
        "        axes[i].axis('off')\n",
        "    plt.show()\n",
        "\n",
        "# Iterate through the test loader and show images\n",
        "for images, targets in test_loader:\n",
        "    show_images(images)\n",
        "    break  # Show only the first batch of images"
      ],
      "metadata": {
        "colab": {
          "base_uri": "https://localhost:8080/",
          "height": 48
        },
        "id": "cWauHx-2m7WE",
        "outputId": "5a0313c2-c295-4b7a-cc44-0d1c96a75af8"
      },
      "execution_count": null,
      "outputs": [
        {
          "output_type": "display_data",
          "data": {
            "text/plain": [
              "<Figure size 864x216 with 32 Axes>"
            ],
            "image/png": "[encoded data removed]"
          },
          "metadata": {}
        }
      ]
    }
  ],
  "metadata": {
    "accelerator": "TPU",
    "colab": {
      "provenance": [],
      "mount_file_id": "1NseRiysHzgGyEPvPFRm5HHNgO0zFICOp",
      "authorship_tag": "ABX9TyPJTL8Jl+OPqZiPUeFMj0JP",
      "include_colab_link": true
    },
    "gpuClass": "standard",
    "kernelspec": {
      "display_name": "Python 3",
      "name": "python3"
    },
    "language_info": {
      "name": "python"
    },
    "widgets": {
      "application/vnd.jupyter.widget-state+json": {
        "e594d1c9a9e647daa168b05c2325a673": {
          "model_module": "@jupyter-widgets/controls",
          "model_name": "HBoxModel",
          "model_module_version": "1.5.0",
          "state": {
            "_dom_classes": [],
            "_model_module": "@jupyter-widgets/controls",
            "_model_module_version": "1.5.0",
            "_model_name": "HBoxModel",
            "_view_count": null,
            "_view_module": "@jupyter-widgets/controls",
            "_view_module_version": "1.5.0",
            "_view_name": "HBoxView",
            "box_style": "",
            "children": [
              "IPY_MODEL_d1f4851cd12d494ab1fb1bf0f85a60bc",
              "IPY_MODEL_51bac48c503345959e8bdd7de574e9c8",
              "IPY_MODEL_574bed2bde62436aa05cd26690126fc6"
            ],
            "layout": "IPY_MODEL_b58f14c406344ceaa25f35c37378ca07"
          }
        },
        "d1f4851cd12d494ab1fb1bf0f85a60bc": {
          "model_module": "@jupyter-widgets/controls",
          "model_name": "HTMLModel",
          "model_module_version": "1.5.0",
          "state": {
            "_dom_classes": [],
            "_model_module": "@jupyter-widgets/controls",
            "_model_module_version": "1.5.0",
            "_model_name": "HTMLModel",
            "_view_count": null,
            "_view_module": "@jupyter-widgets/controls",
            "_view_module_version": "1.5.0",
            "_view_name": "HTMLView",
            "description": "",
            "description_tooltip": null,
            "layout": "IPY_MODEL_b5dad85107a644799430bf461041e265",
            "placeholder": "​",
            "style": "IPY_MODEL_3958efc14f9c469a84f01ea9d8b25aef",
            "value": "100%"
          }
        },
        "51bac48c503345959e8bdd7de574e9c8": {
          "model_module": "@jupyter-widgets/controls",
          "model_name": "FloatProgressModel",
          "model_module_version": "1.5.0",
          "state": {
            "_dom_classes": [],
            "_model_module": "@jupyter-widgets/controls",
            "_model_module_version": "1.5.0",
            "_model_name": "FloatProgressModel",
            "_view_count": null,
            "_view_module": "@jupyter-widgets/controls",
            "_view_module_version": "1.5.0",
            "_view_name": "ProgressView",
            "bar_style": "success",
            "description": "",
            "description_tooltip": null,
            "layout": "IPY_MODEL_e040075e082b42ecac2fab44b829bb90",
            "max": 52147035,
            "min": 0,
            "orientation": "horizontal",
            "style": "IPY_MODEL_e1afa7425e1f45f5ba9d781602df719c",
            "value": 52147035
          }
        },
        "574bed2bde62436aa05cd26690126fc6": {
          "model_module": "@jupyter-widgets/controls",
          "model_name": "HTMLModel",
          "model_module_version": "1.5.0",
          "state": {
            "_dom_classes": [],
            "_model_module": "@jupyter-widgets/controls",
            "_model_module_version": "1.5.0",
            "_model_name": "HTMLModel",
            "_view_count": null,
            "_view_module": "@jupyter-widgets/controls",
            "_view_module_version": "1.5.0",
            "_view_name": "HTMLView",
            "description": "",
            "description_tooltip": null,
            "layout": "IPY_MODEL_0d6e602016a3409499be1e1457d4deac",
            "placeholder": "​",
            "style": "IPY_MODEL_2116dc4e542a4df09e14d450923e4a07",
            "value": " 49.7M/49.7M [00:00&lt;00:00, 63.3MB/s]"
          }
        },
        "b58f14c406344ceaa25f35c37378ca07": {
          "model_module": "@jupyter-widgets/base",
          "model_name": "LayoutModel",
          "model_module_version": "1.2.0",
          "state": {
            "_model_module": "@jupyter-widgets/base",
            "_model_module_version": "1.2.0",
            "_model_name": "LayoutModel",
            "_view_count": null,
            "_view_module": "@jupyter-widgets/base",
            "_view_module_version": "1.2.0",
            "_view_name": "LayoutView",
            "align_content": null,
            "align_items": null,
            "align_self": null,
            "border": null,
            "bottom": null,
            "display": null,
            "flex": null,
            "flex_flow": null,
            "grid_area": null,
            "grid_auto_columns": null,
            "grid_auto_flow": null,
            "grid_auto_rows": null,
            "grid_column": null,
            "grid_gap": null,
            "grid_row": null,
            "grid_template_areas": null,
            "grid_template_columns": null,
            "grid_template_rows": null,
            "height": null,
            "justify_content": null,
            "justify_items": null,
            "left": null,
            "margin": null,
            "max_height": null,
            "max_width": null,
            "min_height": null,
            "min_width": null,
            "object_fit": null,
            "object_position": null,
            "order": null,
            "overflow": null,
            "overflow_x": null,
            "overflow_y": null,
            "padding": null,
            "right": null,
            "top": null,
            "visibility": null,
            "width": null
          }
        },
        "b5dad85107a644799430bf461041e265": {
          "model_module": "@jupyter-widgets/base",
          "model_name": "LayoutModel",
          "model_module_version": "1.2.0",
          "state": {
            "_model_module": "@jupyter-widgets/base",
            "_model_module_version": "1.2.0",
            "_model_name": "LayoutModel",
            "_view_count": null,
            "_view_module": "@jupyter-widgets/base",
            "_view_module_version": "1.2.0",
            "_view_name": "LayoutView",
            "align_content": null,
            "align_items": null,
            "align_self": null,
            "border": null,
            "bottom": null,
            "display": null,
            "flex": null,
            "flex_flow": null,
            "grid_area": null,
            "grid_auto_columns": null,
            "grid_auto_flow": null,
            "grid_auto_rows": null,
            "grid_column": null,
            "grid_gap": null,
            "grid_row": null,
            "grid_template_areas": null,
            "grid_template_columns": null,
            "grid_template_rows": null,
            "height": null,
            "justify_content": null,
            "justify_items": null,
            "left": null,
            "margin": null,
            "max_height": null,
            "max_width": null,
            "min_height": null,
            "min_width": null,
            "object_fit": null,
            "object_position": null,
            "order": null,
            "overflow": null,
            "overflow_x": null,
            "overflow_y": null,
            "padding": null,
            "right": null,
            "top": null,
            "visibility": null,
            "width": null
          }
        },
        "3958efc14f9c469a84f01ea9d8b25aef": {
          "model_module": "@jupyter-widgets/controls",
          "model_name": "DescriptionStyleModel",
          "model_module_version": "1.5.0",
          "state": {
            "_model_module": "@jupyter-widgets/controls",
            "_model_module_version": "1.5.0",
            "_model_name": "DescriptionStyleModel",
            "_view_count": null,
            "_view_module": "@jupyter-widgets/base",
            "_view_module_version": "1.2.0",
            "_view_name": "StyleView",
            "description_width": ""
          }
        },
        "e040075e082b42ecac2fab44b829bb90": {
          "model_module": "@jupyter-widgets/base",
          "model_name": "LayoutModel",
          "model_module_version": "1.2.0",
          "state": {
            "_model_module": "@jupyter-widgets/base",
            "_model_module_version": "1.2.0",
            "_model_name": "LayoutModel",
            "_view_count": null,
            "_view_module": "@jupyter-widgets/base",
            "_view_module_version": "1.2.0",
            "_view_name": "LayoutView",
            "align_content": null,
            "align_items": null,
            "align_self": null,
            "border": null,
            "bottom": null,
            "display": null,
            "flex": null,
            "flex_flow": null,
            "grid_area": null,
            "grid_auto_columns": null,
            "grid_auto_flow": null,
            "grid_auto_rows": null,
            "grid_column": null,
            "grid_gap": null,
            "grid_row": null,
            "grid_template_areas": null,
            "grid_template_columns": null,
            "grid_template_rows": null,
            "height": null,
            "justify_content": null,
            "justify_items": null,
            "left": null,
            "margin": null,
            "max_height": null,
            "max_width": null,
            "min_height": null,
            "min_width": null,
            "object_fit": null,
            "object_position": null,
            "order": null,
            "overflow": null,
            "overflow_x": null,
            "overflow_y": null,
            "padding": null,
            "right": null,
            "top": null,
            "visibility": null,
            "width": null
          }
        },
        "e1afa7425e1f45f5ba9d781602df719c": {
          "model_module": "@jupyter-widgets/controls",
          "model_name": "ProgressStyleModel",
          "model_module_version": "1.5.0",
          "state": {
            "_model_module": "@jupyter-widgets/controls",
            "_model_module_version": "1.5.0",
            "_model_name": "ProgressStyleModel",
            "_view_count": null,
            "_view_module": "@jupyter-widgets/base",
            "_view_module_version": "1.2.0",
            "_view_name": "StyleView",
            "bar_color": null,
            "description_width": ""
          }
        },
        "0d6e602016a3409499be1e1457d4deac": {
          "model_module": "@jupyter-widgets/base",
          "model_name": "LayoutModel",
          "model_module_version": "1.2.0",
          "state": {
            "_model_module": "@jupyter-widgets/base",
            "_model_module_version": "1.2.0",
            "_model_name": "LayoutModel",
            "_view_count": null,
            "_view_module": "@jupyter-widgets/base",
            "_view_module_version": "1.2.0",
            "_view_name": "LayoutView",
            "align_content": null,
            "align_items": null,
            "align_self": null,
            "border": null,
            "bottom": null,
            "display": null,
            "flex": null,
            "flex_flow": null,
            "grid_area": null,
            "grid_auto_columns": null,
            "grid_auto_flow": null,
            "grid_auto_rows": null,
            "grid_column": null,
            "grid_gap": null,
            "grid_row": null,
            "grid_template_areas": null,
            "grid_template_columns": null,
            "grid_template_rows": null,
            "height": null,
            "justify_content": null,
            "justify_items": null,
            "left": null,
            "margin": null,
            "max_height": null,
            "max_width": null,
            "min_height": null,
            "min_width": null,
            "object_fit": null,
            "object_position": null,
            "order": null,
            "overflow": null,
            "overflow_x": null,
            "overflow_y": null,
            "padding": null,
            "right": null,
            "top": null,
            "visibility": null,
            "width": null
          }
        },
        "2116dc4e542a4df09e14d450923e4a07": {
          "model_module": "@jupyter-widgets/controls",
          "model_name": "DescriptionStyleModel",
          "model_module_version": "1.5.0",
          "state": {
            "_model_module": "@jupyter-widgets/controls",
            "_model_module_version": "1.5.0",
            "_model_name": "DescriptionStyleModel",
            "_view_count": null,
            "_view_module": "@jupyter-widgets/base",
            "_view_module_version": "1.2.0",
            "_view_name": "StyleView",
            "description_width": ""
          }
        }
      }
    }
  },
  "nbformat": 4,
  "nbformat_minor": 0
}