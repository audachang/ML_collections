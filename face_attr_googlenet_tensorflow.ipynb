{
  "nbformat": 4,
  "nbformat_minor": 0,
  "metadata": {
    "colab": {
      "private_outputs": true,
      "provenance": [],
      "mount_file_id": "1e6BW7OsAh7C4BDUieOBc2gYCEqzC2vsZ",
      "authorship_tag": "ABX9TyMs+2Uj9UtMjbk0XFW3pKqn",
      "include_colab_link": true
    },
    "kernelspec": {
      "name": "python3",
      "display_name": "Python 3"
    },
    "language_info": {
      "name": "python"
    }
  },
  "cells": [
    {
      "cell_type": "markdown",
      "metadata": {
        "id": "view-in-github",
        "colab_type": "text"
      },
      "source": [
        "<a href=\"https://colab.research.google.com/github/audachang/ML_collections/blob/main/face_attr_googlenet_tensorflow.ipynb\" target=\"_parent\"><img src=\"https://colab.research.google.com/assets/colab-badge.svg\" alt=\"Open In Colab\"/></a>"
      ]
    },
    {
      "cell_type": "code",
      "execution_count": null,
      "metadata": {
        "id": "onEPxLVq_Ezd"
      },
      "outputs": [],
      "source": [
        "import tensorflow as tf\n",
        "from tensorflow import keras\n",
        "from tensorflow.keras import layers, models, optimizers, losses\n",
        "from tensorflow.keras.preprocessing.image import ImageDataGenerator\n",
        "import pandas as pd\n",
        "import os\n",
        "from PIL import Image\n",
        "import numpy as np\n",
        "import matplotlib.pyplot as plt\n",
        "\n",
        "# Paths\n",
        "dpath = './drive/MyDrive/mycolab/data/'\n",
        "model_path = './drive/MyDrive/mycolab/model/'\n",
        "imgdir = os.path.join(dpath, '346faces_sameBG_grey_adjBright')\n",
        "annote_file = './drive/MyDrive/mycolab/data/346faces_allData.csv'  # or whatever the path to the downloaded data is\n",
        "\n",
        "# Training parameters\n",
        "num_classes = 2\n",
        "learning_rate = 3e-4\n",
        "batch_size = 32\n",
        "num_epochs = 10\n",
        "IMAGE_WIDTH = 480\n",
        "IMAGE_HEIGHT = 480\n",
        "IMAGE_SIZE = (IMAGE_WIDTH, IMAGE_HEIGHT)\n",
        "\n",
        "# Load the dataset and split into training and testing sets\n",
        "annotations = pd.read_csv(annote_file)\n",
        "annotations['value'] = annotations['gray_att_upr']\n",
        "train_df = annotations.sample(frac=0.8, random_state=42)\n",
        "test_df = annotations.drop(train_df.index)\n",
        "\n",
        "# Image data generator\n",
        "def preprocess_image(image):\n",
        "    image = image / 255.0\n",
        "    return image\n",
        "\n",
        "datagen = ImageDataGenerator(\n",
        "    rescale=1.0 / 255.0,\n",
        "    horizontal_flip=True,\n",
        "    preprocessing_function=preprocess_image,\n",
        ")\n",
        "\n",
        "train_gen = datagen.flow_from_dataframe(\n",
        "    dataframe=train_df,\n",
        "    directory=imgdir,\n",
        "    x_col='image_grey_adj',\n",
        "    y_col='value',\n",
        "    target_size=IMAGE_SIZE,\n",
        "    batch_size=batch_size,\n",
        "    class_mode='raw',\n",
        ")\n",
        "\n",
        "test_gen = datagen.flow_from_dataframe(\n",
        "    dataframe=test_df,\n",
        "    directory=imgdir,\n",
        "    x_col='image_grey_adj',\n",
        "    y_col='value',\n",
        "    target_size=IMAGE_SIZE,\n",
        "    batch_size=batch_size,\n",
        "    class_mode='raw',\n",
        ")\n",
        "\n",
        "def create_inceptionv3_regressor():\n",
        "    base_model = tf.keras.applications.InceptionV3(input_shape=(*IMAGE_SIZE, 3), include_top=False, pooling='avg')\n",
        "    x = base_model.output\n",
        "    predictions = layers.Dense(1)(x)\n",
        "    model = models.Model(inputs=base_model.input, outputs=predictions)\n",
        "    return model\n",
        "\n",
        "# Instantiate the inceptionv3 regressor model, criterion, and optimizer\n",
        "model = create_inceptionv3_regressor()\n",
        "criterion = losses.MeanSquaredError()\n",
        "optimizer = optimizers.Adam(learning_rate=learning_rate)\n",
        "\n",
        "# Compile the model\n",
        "model.compile(optimizer=optimizer, loss=criterion)\n",
        "\n",
        "# Train the model\n",
        "history = model.fit(\n",
        "    train_gen,\n",
        "    epochs=num_epochs,\n",
        "    steps_per_epoch=len(train_gen),\n",
        "    validation_data=test_gen,\n",
        "    validation_steps=len(test_gen),\n",
        ")\n",
        "\n",
        "# Save the final model\n",
        "model.save(os.path.join(model_path, 'tf.inceptionv3_pretrained-Final.h5'))\n",
        "\n",
        "# Test the model\n",
        "test_loss = model.evaluate(test_gen, steps=len(test_gen))\n",
        "print('Test Loss: {:.4f}'.format(test_loss))\n",
        "\n",
        "# Create a scatter plot of predicted vs target values\n",
        "test_gen.reset()\n",
        "predicted_values = model.predict(test_gen, steps=len(test_gen))\n",
        "target_values = np.concatenate([test_gen[i][1] for i in range(len(test_gen))], axis=0)\n",
        "plt.scatter(target_values, predicted_values)\n",
        "plt.xlabel('Target values')\n",
        "plt.ylabel('Predicted values')\n",
        "plt.show()\n"
      ]
    },
    {
      "cell_type": "code",
      "source": [
        "train_df"
      ],
      "metadata": {
        "id": "0ODdCIXq_4i9"
      },
      "execution_count": null,
      "outputs": []
    }
  ]
}